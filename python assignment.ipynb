{
 "cells": [
  {
   "cell_type": "raw",
   "id": "1674aabc-1c16-46bf-9543-06485b1aba59",
   "metadata": {},
   "source": [
    "Q1 Write all the conventions being followed while declaring a variable."
   ]
  },
  {
   "cell_type": "raw",
   "id": "b0262af7-2a71-41e5-8b60-cff54cc5475b",
   "metadata": {},
   "source": [
    "The conventions being followed while declaring a variable are:-\n",
    "- it should start with a letter\n",
    "- it should start with underscore character.\n",
    "- variables are case sensitive. "
   ]
  },
  {
   "cell_type": "raw",
   "id": "d8eaa9f8-d7b9-4bfe-b9f7-47353cafd462",
   "metadata": {},
   "source": [
    "Q2 What will happen if we declare a restricted keyword as a variable?"
   ]
  },
  {
   "cell_type": "raw",
   "id": "31034670-c606-4068-b1ac-6098a27464f7",
   "metadata": {},
   "source": [
    " If we declare a restricted keyword as a variable then we will get syntax error."
   ]
  },
  {
   "cell_type": "raw",
   "id": "9442d084-724c-421f-8dc2-9560ee84d27d",
   "metadata": {},
   "source": [
    "Q3 Can we actually declare a string as a variable name?"
   ]
  },
  {
   "cell_type": "raw",
   "id": "f8736830-7d68-4a3d-9850-feaf538568af",
   "metadata": {},
   "source": [
    "Yes we can declare a string as a variable name. We can define a variable name with the string by adding the input string as a key into the table. We can add a single character, numeric values, or strings as the associated value to the variable."
   ]
  },
  {
   "cell_type": "raw",
   "id": "833d6c07-47b5-4992-b8b8-f5ad25f06298",
   "metadata": {},
   "source": [
    "Q4 Is it possible for us to declare \"_\" as a variable? If so, then write an example of it."
   ]
  },
  {
   "cell_type": "raw",
   "id": "c7055435-dcd3-46d2-ab7e-60302b9f1acc",
   "metadata": {},
   "source": [
    "Yes it is possible to declare \"_\" as a variable."
   ]
  },
  {
   "cell_type": "code",
   "execution_count": 24,
   "id": "248a2b98-62bc-4c13-af03-c965ee91c195",
   "metadata": {},
   "outputs": [],
   "source": [
    "#Example of it is;\n",
    "_ = 'adi'"
   ]
  },
  {
   "cell_type": "code",
   "execution_count": 25,
   "id": "c098d522-f3fe-4ce6-bd2f-89b664b86da0",
   "metadata": {},
   "outputs": [
    {
     "name": "stdout",
     "output_type": "stream",
     "text": [
      "adi\n"
     ]
    }
   ],
   "source": [
    "print(_)"
   ]
  },
  {
   "cell_type": "code",
   "execution_count": 6,
   "id": "3673faec-dba1-4127-a825-647e7d911ae5",
   "metadata": {},
   "outputs": [],
   "source": [
    "_ = 1"
   ]
  },
  {
   "cell_type": "code",
   "execution_count": 7,
   "id": "7765a53e-7f5b-4871-a711-7d37ca7fb8f3",
   "metadata": {},
   "outputs": [
    {
     "name": "stdout",
     "output_type": "stream",
     "text": [
      "1\n"
     ]
    }
   ],
   "source": [
    "print(_)"
   ]
  },
  {
   "cell_type": "raw",
   "id": "1a97d544-e8c0-44e6-adad-939ad0d70e93",
   "metadata": {},
   "source": [
    "Q5 Using an example, explain how the variables in python are dynamic in nature."
   ]
  },
  {
   "cell_type": "code",
   "execution_count": 8,
   "id": "6cd7c121-d5fa-423d-b599-2427fcf6379a",
   "metadata": {},
   "outputs": [],
   "source": [
    "a = 12.0"
   ]
  },
  {
   "cell_type": "code",
   "execution_count": 9,
   "id": "d6fe771d-808f-4e37-8520-b8e5b41b8881",
   "metadata": {},
   "outputs": [
    {
     "name": "stdout",
     "output_type": "stream",
     "text": [
      "12.0\n"
     ]
    }
   ],
   "source": [
    "print(a)"
   ]
  },
  {
   "cell_type": "code",
   "execution_count": 17,
   "id": "9756f8ca-8b69-424c-b4eb-5ffa74d3c472",
   "metadata": {},
   "outputs": [],
   "source": [
    "b = 24"
   ]
  },
  {
   "cell_type": "code",
   "execution_count": 14,
   "id": "2b283d0d-c444-48bc-878c-6244e5fc0462",
   "metadata": {},
   "outputs": [
    {
     "name": "stdout",
     "output_type": "stream",
     "text": [
      "24\n"
     ]
    }
   ],
   "source": [
    "print(b)"
   ]
  },
  {
   "cell_type": "code",
   "execution_count": 15,
   "id": "e7542980-ba18-4cb6-9403-dc504676636e",
   "metadata": {},
   "outputs": [
    {
     "name": "stdout",
     "output_type": "stream",
     "text": [
      "36.0\n"
     ]
    }
   ],
   "source": [
    "print(a*3)"
   ]
  },
  {
   "cell_type": "code",
   "execution_count": 16,
   "id": "4964ef1b-e4a5-4e3c-896a-2390ae2050f5",
   "metadata": {},
   "outputs": [
    {
     "name": "stdout",
     "output_type": "stream",
     "text": [
      "72\n"
     ]
    }
   ],
   "source": [
    "print(b*3)"
   ]
  },
  {
   "cell_type": "code",
   "execution_count": 18,
   "id": "65c1a86d-5745-4b12-940b-243446b3a378",
   "metadata": {},
   "outputs": [],
   "source": [
    "c = 'data'"
   ]
  },
  {
   "cell_type": "code",
   "execution_count": 19,
   "id": "6b4ce634-3b30-4dcd-81c7-01dc9c083147",
   "metadata": {},
   "outputs": [
    {
     "name": "stdout",
     "output_type": "stream",
     "text": [
      "data\n"
     ]
    }
   ],
   "source": [
    "print(c)"
   ]
  },
  {
   "cell_type": "code",
   "execution_count": 20,
   "id": "229e8529-1a35-4ff4-b5f1-f80175aec2b8",
   "metadata": {},
   "outputs": [
    {
     "name": "stdout",
     "output_type": "stream",
     "text": [
      "datadatadata\n"
     ]
    }
   ],
   "source": [
    "print(c*3)"
   ]
  },
  {
   "cell_type": "code",
   "execution_count": 21,
   "id": "f1f212d6-f62d-4e03-a378-ab978abfe55c",
   "metadata": {},
   "outputs": [
    {
     "data": {
      "text/plain": [
       "float"
      ]
     },
     "execution_count": 21,
     "metadata": {},
     "output_type": "execute_result"
    }
   ],
   "source": [
    "type(a)"
   ]
  },
  {
   "cell_type": "code",
   "execution_count": 22,
   "id": "bb3874c9-8701-4584-97b6-55a6294ea2c0",
   "metadata": {},
   "outputs": [
    {
     "data": {
      "text/plain": [
       "int"
      ]
     },
     "execution_count": 22,
     "metadata": {},
     "output_type": "execute_result"
    }
   ],
   "source": [
    "type(b)"
   ]
  },
  {
   "cell_type": "code",
   "execution_count": 23,
   "id": "7e2125fd-e5b0-49eb-832f-d8033c970282",
   "metadata": {},
   "outputs": [
    {
     "data": {
      "text/plain": [
       "str"
      ]
     },
     "execution_count": 23,
     "metadata": {},
     "output_type": "execute_result"
    }
   ],
   "source": [
    "type(c)"
   ]
  },
  {
   "cell_type": "raw",
   "id": "e17151ed-c2b6-45d0-9e11-240ebb9c2238",
   "metadata": {},
   "source": [
    "Here we see that we have given three different variables to our program and after run of program we also get values according to given variables. And hence it shows "
   ]
  }
 ],
 "metadata": {
  "kernelspec": {
   "display_name": "Python 3 (ipykernel)",
   "language": "python",
   "name": "python3"
  },
  "language_info": {
   "codemirror_mode": {
    "name": "ipython",
    "version": 3
   },
   "file_extension": ".py",
   "mimetype": "text/x-python",
   "name": "python",
   "nbconvert_exporter": "python",
   "pygments_lexer": "ipython3",
   "version": "3.10.8"
  }
 },
 "nbformat": 4,
 "nbformat_minor": 5
}
